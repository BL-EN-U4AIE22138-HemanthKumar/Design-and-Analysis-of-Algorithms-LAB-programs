{
  "nbformat": 4,
  "nbformat_minor": 0,
  "metadata": {
    "colab": {
      "provenance": []
    },
    "kernelspec": {
      "name": "python3",
      "display_name": "Python 3"
    },
    "language_info": {
      "name": "python"
    }
  },
  "cells": [
    {
      "cell_type": "code",
      "execution_count": null,
      "metadata": {
        "colab": {
          "base_uri": "https://localhost:8080/"
        },
        "id": "HmfcHOMcpQDf",
        "outputId": "911f85dc-846a-4919-bd19-adb767a78219"
      },
      "outputs": [
        {
          "output_type": "stream",
          "name": "stdout",
          "text": [
            "pair found ( 8 , 2 )\n",
            "pair found ( 7 , 3 )\n",
            "pair found ( 2 , 8 )\n",
            "pair found ( 3 , 7 )\n",
            "pair found ( 5 , 5 )\n"
          ]
        }
      ],
      "source": [
        "array=[8,7,2,5,3,5]\n",
        "target=10\n",
        "n=len(array)\n",
        "\n",
        "found=0\n",
        "for i in range(0,n):\n",
        "  for j in range(0,len(array)-1):\n",
        "    if((array[i]+array[j]) == target and i!=j):\n",
        "      print(\"pair found (\",array[i],\",\",array[j],\")\")\n",
        "      found += 1\n",
        "    else:\n",
        "      continue\n",
        "if(found==0):\n",
        "  print(\"no pair found\")\n"
      ]
    },
    {
      "cell_type": "code",
      "source": [
        "array=[5,2,6,8,1,9]\n",
        "target=12\n",
        "\n",
        "found=0\n",
        "for i in range(0,len(array)):\n",
        "  for j in range(0,len(array)-1):\n",
        "    if((array[i]+array[j]) == target and i!=j):\n",
        "      print(\"pair found (\",array[i],\",\",array[j],\")\")\n",
        "      found += 1\n",
        "    else:\n",
        "      continue\n",
        "if(found==0):\n",
        "  print(\"no pair found\")"
      ],
      "metadata": {
        "colab": {
          "base_uri": "https://localhost:8080/"
        },
        "id": "7YejoK8kyf4p",
        "outputId": "d505db44-639a-4c30-c5b4-53004ab7db63"
      },
      "execution_count": null,
      "outputs": [
        {
          "output_type": "stream",
          "name": "stdout",
          "text": [
            "no pair found\n"
          ]
        }
      ]
    },
    {
      "cell_type": "code",
      "source": [
        "arr=[1,7,4,2,8,6,3,9,5]\n",
        "\n",
        "temp=0\n",
        "for i in range(0,len(arr)):\n",
        "  for j in range(0,len(arr)-1):\n",
        "    if(arr[j]>arr[j+1]):\n",
        "      temp=arr[j+1]\n",
        "      arr[j+1]=arr[j]\n",
        "      arr[j]=temp\n",
        "\n",
        "print(arr)\n",
        "print(\"product of 2 highest numbers are:\", arr[len(arr)-1]*arr[len(arr)-2])"
      ],
      "metadata": {
        "colab": {
          "base_uri": "https://localhost:8080/"
        },
        "id": "jJgYj_dW6S1q",
        "outputId": "339dd317-adab-4c1f-aa81-95a2efc60e44"
      },
      "execution_count": null,
      "outputs": [
        {
          "output_type": "stream",
          "name": "stdout",
          "text": [
            "[1, 2, 3, 4, 5, 6, 7, 8, 9]\n",
            "product of 2 highest numbers are: 72\n"
          ]
        }
      ]
    },
    {
      "cell_type": "code",
      "source": [
        "A=[3,8,6,7,5,9]\n",
        "\n",
        "temp=0\n",
        "for i in range(0,len(A)-2):\n",
        "\n",
        "print(A)"
      ],
      "metadata": {
        "colab": {
          "base_uri": "https://localhost:8080/"
        },
        "id": "U-q6Z8Nn-um0",
        "outputId": "58aafbd9-9ed5-4abe-d46d-ac347487ff21"
      },
      "execution_count": null,
      "outputs": [
        {
          "output_type": "stream",
          "name": "stdout",
          "text": [
            "[3, 8, 6, 7, 5, 9]\n"
          ]
        }
      ]
    },
    {
      "cell_type": "code",
      "source": [
        "inputarray=[0,1,0,1,0,0,1,1,1,0]\n",
        "outputarray=[]\n",
        "for i in range(0,2):\n",
        "  for j in range(0,len(inputarray)):\n",
        "    if(inputarray[j]==inputarray[i]):\n",
        "      outputarray.append(inputarray[j])\n",
        "print(outputarray)"
      ],
      "metadata": {
        "colab": {
          "base_uri": "https://localhost:8080/"
        },
        "id": "V3Ruu2AKywjV",
        "outputId": "73c51f57-3ea7-46a7-e090-f5d2414334b3"
      },
      "execution_count": 3,
      "outputs": [
        {
          "output_type": "stream",
          "name": "stdout",
          "text": [
            "[0, 0, 0, 0, 0, 1, 1, 1, 1, 1]\n"
          ]
        }
      ]
    },
    {
      "cell_type": "code",
      "source": [
        "arr=[10,1,2,4,13,9,5]\n",
        "c=0\n",
        "for j in range(0,len(arr)):\n",
        "  for k in range(j,len(arr)):\n",
        "    if(arr[j] > arr[k]):\n",
        "      print(arr[j],arr[k])\n",
        "      c=c+1\n",
        "print(\"count of inversions:\",c)\n"
      ],
      "metadata": {
        "colab": {
          "base_uri": "https://localhost:8080/"
        },
        "id": "UAKfFNZeOA29",
        "outputId": "0d94ff79-47a3-45c8-d684-e0d36c9ed3eb"
      },
      "execution_count": null,
      "outputs": [
        {
          "output_type": "stream",
          "name": "stdout",
          "text": [
            "10 1\n",
            "10 2\n",
            "10 4\n",
            "10 9\n",
            "10 5\n",
            "13 9\n",
            "13 5\n",
            "9 5\n",
            "count of inversions: 8\n"
          ]
        }
      ]
    },
    {
      "cell_type": "code",
      "source": [
        "arr=[8,4,1,6]\n",
        "k=10\n",
        "n=len(arr)\n",
        "\n",
        "for i in range(0,n):\n",
        "  for j in range(0,len(arr)-1):\n",
        "    if((arr[i]+arr[j]) == k and i!=j):\n",
        "      print(\"pair found (\",arr[i],\",\",arr[j],\")\")\n",
        "    else:\n",
        "      continue\n"
      ],
      "metadata": {
        "id": "smXIB9zYQyCt",
        "colab": {
          "base_uri": "https://localhost:8080/"
        },
        "outputId": "e084f19b-ea15-46ee-e56f-76fe7bc394cb"
      },
      "execution_count": 2,
      "outputs": [
        {
          "output_type": "stream",
          "name": "stdout",
          "text": [
            "pair found ( 6 , 4 )\n"
          ]
        }
      ]
    }
  ]
}