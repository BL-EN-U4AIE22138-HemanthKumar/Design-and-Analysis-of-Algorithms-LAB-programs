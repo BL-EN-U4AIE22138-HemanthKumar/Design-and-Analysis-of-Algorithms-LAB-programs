{
  "nbformat": 4,
  "nbformat_minor": 0,
  "metadata": {
    "colab": {
      "provenance": []
    },
    "kernelspec": {
      "name": "python3",
      "display_name": "Python 3"
    },
    "language_info": {
      "name": "python"
    }
  },
  "cells": [
    {
      "cell_type": "code",
      "execution_count": 33,
      "metadata": {
        "colab": {
          "base_uri": "https://localhost:8080/",
          "height": 448
        },
        "id": "kaWpHSUN_ZG_",
        "outputId": "e9f2eeef-c2e7-48d5-9b45-35d8b4dd6adf"
      },
      "outputs": [
        {
          "output_type": "stream",
          "name": "stdout",
          "text": [
            "['bubble', 'selection', 'insertion'] [0.33147692680358887, 0.15830755233764648, 0.12988877296447754]\n"
          ]
        },
        {
          "output_type": "display_data",
          "data": {
            "text/plain": [
              "<Figure size 640x480 with 1 Axes>"
            ],
            "image/png": "[encoded data removed]"
          },
          "metadata": {}
        }
      ],
      "source": [
        "import random\n",
        "import time\n",
        "import matplotlib.pyplot as plt\n",
        "import numpy as np\n",
        "\n",
        "st=time.time()\n",
        "A=np.random.randint(10000,size=(1000))\n",
        "times=[]\n",
        "algo=[]\n",
        "\n",
        "temp=0\n",
        "\n",
        "#bubble sort\n",
        "n=len(A)\n",
        "swapped=True\n",
        "while(swapped):\n",
        "  swapped=False\n",
        "  for j in range(0,n-1):\n",
        "    if(A[j] > A[j+1]):\n",
        "      temp=A[j]\n",
        "      A[j]=A[j+1]\n",
        "      A[j+1]=temp\n",
        "      swapped=True\n",
        "  n=n-1\n",
        "et=time.time()\n",
        "elapsedtime=et-st\n",
        "\n",
        "algo.append('bubble')\n",
        "times.append(elapsedtime)\n",
        "\n",
        "A=np.random.randint(10000,size=(1000))\n",
        "st=time.time()\n",
        "smallest=0\n",
        "n=len(A)\n",
        "\n",
        "#selection sort\n",
        "for j in range(0,n-1):\n",
        "  smallest=j\n",
        "  for i in range(j+1,n):\n",
        "    if(A[i] < A[smallest]):\n",
        "      smallest=i\n",
        "  temp=A[j]\n",
        "  A[j]=A[smallest]\n",
        "  A[smallest]=temp\n",
        "\n",
        "et=time.time()\n",
        "elapsedtime=et-st\n",
        "algo.append('selection')\n",
        "times.append(elapsedtime)\n",
        "\n",
        "#insertion sort\n",
        "A=np.random.randint(10000,size=(1000))\n",
        "st=time.time()\n",
        "i=0\n",
        "for j in range(1,n):\n",
        "  key=A[j]\n",
        "  i=j-1\n",
        "  while(i>=0 and A[i] > key):\n",
        "    A[i+1] = A[i]\n",
        "    i=i-1\n",
        "  A[i+1]=key\n",
        "et=time.time()\n",
        "elapsedtime=et-st\n",
        "algo.append('insertion')\n",
        "times.append(elapsedtime)\n",
        "\n",
        "print(algo,times)\n",
        "plt.bar(algo,times)\n",
        "plt.show()"
      ]
    },
    {
      "cell_type": "code",
      "source": [
        "intervals=[[1,4],[2,5],[7,8],[6,9]]\n",
        "start=intervals[0][0]\n",
        "end=intervals[0][1]\n",
        "for i in range():\n",
        "  for j in range():\n",
        "\n"
      ],
      "metadata": {
        "id": "oOUmEW-o6QUZ"
      },
      "execution_count": null,
      "outputs": []
    }
  ]
}